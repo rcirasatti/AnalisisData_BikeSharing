{
 "cells": [
  {
   "cell_type": "markdown",
   "metadata": {
    "id": "H9wADwK78DCz"
   },
   "source": [
    "# Proyek Analisis Data: Bike Sharing Dataset\n",
    "- **Nama:** Rucirasatti Nariswana\n",
    "- **Email:** rcirasatti@gmail.com / mc338d5x2308@student.devacademy.id\n",
    "- **ID Dicoding:** rcirasatti"
   ]
  },
  {
   "metadata": {},
   "cell_type": "markdown",
   "source": "## Menentukan Pertanyaan Bisnis"
  },
  {
   "cell_type": "markdown",
   "metadata": {
    "id": "GmQeQ5YF8DC0"
   },
   "source": [
    "- Bagaimana tren penggunaan sepeda harian berdasarkan hari dalam seminggu di tahun 2012?\n",
    "- Musim mana penggunaan sepeda tertinggi pada tahun 2011-2012?\n",
    "- Bagaimana pola penggunaan sepeda per jam di musim tertinggi 2012?"
   ]
  },
  {
   "cell_type": "markdown",
   "metadata": {
    "id": "H-z4QGlO8DC1"
   },
   "source": [
    "## Import Semua Packages/Library yang Digunakan"
   ]
  },
  {
   "cell_type": "code",
   "metadata": {
    "id": "FVYwaObI8DC1",
    "ExecuteTime": {
     "end_time": "2025-02-28T13:59:31.237335Z",
     "start_time": "2025-02-28T13:59:31.225131Z"
    }
   },
   "source": [
    "import pandas as pd\n",
    "import numpy as np\n",
    "import matplotlib.pyplot as plt\n",
    "import seaborn as sns\n",
    "import warnings\n",
    "warnings.filterwarnings('ignore')"
   ],
   "outputs": [],
   "execution_count": 37
  },
  {
   "cell_type": "markdown",
   "metadata": {
    "id": "h_Sh51Xy8DC1"
   },
   "source": [
    "## Data Wrangling"
   ]
  },
  {
   "cell_type": "markdown",
   "metadata": {
    "id": "sXU2GBYu8DC1"
   },
   "source": [
    "### Gathering Data"
   ]
  },
  {
   "metadata": {},
   "cell_type": "markdown",
   "source": "#### Membaca dataset day.csv"
  },
  {
   "cell_type": "code",
   "metadata": {
    "id": "zjCBk1BI8DC1",
    "ExecuteTime": {
     "end_time": "2025-02-28T13:59:31.381293Z",
     "start_time": "2025-02-28T13:59:31.338237Z"
    }
   },
   "source": [
    "# Membaca kedua dataset\n",
    "day_df = pd.read_csv('data/day.csv')\n",
    "\n",
    "# Tampilkan 5 baris pertama\n",
    "print(\"5 Baris Pertama day.csv:\")\n",
    "day_df.head()"
   ],
   "outputs": [
    {
     "name": "stdout",
     "output_type": "stream",
     "text": [
      "5 Baris Pertama day.csv:\n"
     ]
    },
    {
     "data": {
      "text/plain": [
       "   instant      dteday  season  yr  mnth  holiday  weekday  workingday  \\\n",
       "0        1  2011-01-01       1   0     1        0        6           0   \n",
       "1        2  2011-01-02       1   0     1        0        0           0   \n",
       "2        3  2011-01-03       1   0     1        0        1           1   \n",
       "3        4  2011-01-04       1   0     1        0        2           1   \n",
       "4        5  2011-01-05       1   0     1        0        3           1   \n",
       "\n",
       "   weathersit      temp     atemp       hum  windspeed  casual  registered  \\\n",
       "0           2  0.344167  0.363625  0.805833   0.160446     331         654   \n",
       "1           2  0.363478  0.353739  0.696087   0.248539     131         670   \n",
       "2           1  0.196364  0.189405  0.437273   0.248309     120        1229   \n",
       "3           1  0.200000  0.212122  0.590435   0.160296     108        1454   \n",
       "4           1  0.226957  0.229270  0.436957   0.186900      82        1518   \n",
       "\n",
       "    cnt  \n",
       "0   985  \n",
       "1   801  \n",
       "2  1349  \n",
       "3  1562  \n",
       "4  1600  "
      ],
      "text/html": [
       "<div>\n",
       "<style scoped>\n",
       "    .dataframe tbody tr th:only-of-type {\n",
       "        vertical-align: middle;\n",
       "    }\n",
       "\n",
       "    .dataframe tbody tr th {\n",
       "        vertical-align: top;\n",
       "    }\n",
       "\n",
       "    .dataframe thead th {\n",
       "        text-align: right;\n",
       "    }\n",
       "</style>\n",
       "<table border=\"1\" class=\"dataframe\">\n",
       "  <thead>\n",
       "    <tr style=\"text-align: right;\">\n",
       "      <th></th>\n",
       "      <th>instant</th>\n",
       "      <th>dteday</th>\n",
       "      <th>season</th>\n",
       "      <th>yr</th>\n",
       "      <th>mnth</th>\n",
       "      <th>holiday</th>\n",
       "      <th>weekday</th>\n",
       "      <th>workingday</th>\n",
       "      <th>weathersit</th>\n",
       "      <th>temp</th>\n",
       "      <th>atemp</th>\n",
       "      <th>hum</th>\n",
       "      <th>windspeed</th>\n",
       "      <th>casual</th>\n",
       "      <th>registered</th>\n",
       "      <th>cnt</th>\n",
       "    </tr>\n",
       "  </thead>\n",
       "  <tbody>\n",
       "    <tr>\n",
       "      <th>0</th>\n",
       "      <td>1</td>\n",
       "      <td>2011-01-01</td>\n",
       "      <td>1</td>\n",
       "      <td>0</td>\n",
       "      <td>1</td>\n",
       "      <td>0</td>\n",
       "      <td>6</td>\n",
       "      <td>0</td>\n",
       "      <td>2</td>\n",
       "      <td>0.344167</td>\n",
       "      <td>0.363625</td>\n",
       "      <td>0.805833</td>\n",
       "      <td>0.160446</td>\n",
       "      <td>331</td>\n",
       "      <td>654</td>\n",
       "      <td>985</td>\n",
       "    </tr>\n",
       "    <tr>\n",
       "      <th>1</th>\n",
       "      <td>2</td>\n",
       "      <td>2011-01-02</td>\n",
       "      <td>1</td>\n",
       "      <td>0</td>\n",
       "      <td>1</td>\n",
       "      <td>0</td>\n",
       "      <td>0</td>\n",
       "      <td>0</td>\n",
       "      <td>2</td>\n",
       "      <td>0.363478</td>\n",
       "      <td>0.353739</td>\n",
       "      <td>0.696087</td>\n",
       "      <td>0.248539</td>\n",
       "      <td>131</td>\n",
       "      <td>670</td>\n",
       "      <td>801</td>\n",
       "    </tr>\n",
       "    <tr>\n",
       "      <th>2</th>\n",
       "      <td>3</td>\n",
       "      <td>2011-01-03</td>\n",
       "      <td>1</td>\n",
       "      <td>0</td>\n",
       "      <td>1</td>\n",
       "      <td>0</td>\n",
       "      <td>1</td>\n",
       "      <td>1</td>\n",
       "      <td>1</td>\n",
       "      <td>0.196364</td>\n",
       "      <td>0.189405</td>\n",
       "      <td>0.437273</td>\n",
       "      <td>0.248309</td>\n",
       "      <td>120</td>\n",
       "      <td>1229</td>\n",
       "      <td>1349</td>\n",
       "    </tr>\n",
       "    <tr>\n",
       "      <th>3</th>\n",
       "      <td>4</td>\n",
       "      <td>2011-01-04</td>\n",
       "      <td>1</td>\n",
       "      <td>0</td>\n",
       "      <td>1</td>\n",
       "      <td>0</td>\n",
       "      <td>2</td>\n",
       "      <td>1</td>\n",
       "      <td>1</td>\n",
       "      <td>0.200000</td>\n",
       "      <td>0.212122</td>\n",
       "      <td>0.590435</td>\n",
       "      <td>0.160296</td>\n",
       "      <td>108</td>\n",
       "      <td>1454</td>\n",
       "      <td>1562</td>\n",
       "    </tr>\n",
       "    <tr>\n",
       "      <th>4</th>\n",
       "      <td>5</td>\n",
       "      <td>2011-01-05</td>\n",
       "      <td>1</td>\n",
       "      <td>0</td>\n",
       "      <td>1</td>\n",
       "      <td>0</td>\n",
       "      <td>3</td>\n",
       "      <td>1</td>\n",
       "      <td>1</td>\n",
       "      <td>0.226957</td>\n",
       "      <td>0.229270</td>\n",
       "      <td>0.436957</td>\n",
       "      <td>0.186900</td>\n",
       "      <td>82</td>\n",
       "      <td>1518</td>\n",
       "      <td>1600</td>\n",
       "    </tr>\n",
       "  </tbody>\n",
       "</table>\n",
       "</div>"
      ]
     },
     "execution_count": 38,
     "metadata": {},
     "output_type": "execute_result"
    }
   ],
   "execution_count": 38
  },
  {
   "metadata": {},
   "cell_type": "markdown",
   "source": "#### Membaca dataset hour.csv"
  },
  {
   "metadata": {
    "ExecuteTime": {
     "end_time": "2025-02-28T13:59:31.607081Z",
     "start_time": "2025-02-28T13:59:31.539505Z"
    }
   },
   "cell_type": "code",
   "source": [
    "# Membaca kedua dataset\n",
    "hour_df = pd.read_csv('data/hour.csv')\n",
    "\n",
    "# Tampilkan 5 baris pertama\n",
    "print(\"\\n5 Baris Pertama hour.csv:\")\n",
    "hour_df.head()"
   ],
   "outputs": [
    {
     "name": "stdout",
     "output_type": "stream",
     "text": [
      "\n",
      "5 Baris Pertama hour.csv:\n"
     ]
    },
    {
     "data": {
      "text/plain": [
       "   instant      dteday  season  yr  mnth  hr  holiday  weekday  workingday  \\\n",
       "0        1  2011-01-01       1   0     1   0        0        6           0   \n",
       "1        2  2011-01-01       1   0     1   1        0        6           0   \n",
       "2        3  2011-01-01       1   0     1   2        0        6           0   \n",
       "3        4  2011-01-01       1   0     1   3        0        6           0   \n",
       "4        5  2011-01-01       1   0     1   4        0        6           0   \n",
       "\n",
       "   weathersit  temp   atemp   hum  windspeed  casual  registered  cnt  \n",
       "0           1  0.24  0.2879  0.81        0.0       3          13   16  \n",
       "1           1  0.22  0.2727  0.80        0.0       8          32   40  \n",
       "2           1  0.22  0.2727  0.80        0.0       5          27   32  \n",
       "3           1  0.24  0.2879  0.75        0.0       3          10   13  \n",
       "4           1  0.24  0.2879  0.75        0.0       0           1    1  "
      ],
      "text/html": [
       "<div>\n",
       "<style scoped>\n",
       "    .dataframe tbody tr th:only-of-type {\n",
       "        vertical-align: middle;\n",
       "    }\n",
       "\n",
       "    .dataframe tbody tr th {\n",
       "        vertical-align: top;\n",
       "    }\n",
       "\n",
       "    .dataframe thead th {\n",
       "        text-align: right;\n",
       "    }\n",
       "</style>\n",
       "<table border=\"1\" class=\"dataframe\">\n",
       "  <thead>\n",
       "    <tr style=\"text-align: right;\">\n",
       "      <th></th>\n",
       "      <th>instant</th>\n",
       "      <th>dteday</th>\n",
       "      <th>season</th>\n",
       "      <th>yr</th>\n",
       "      <th>mnth</th>\n",
       "      <th>hr</th>\n",
       "      <th>holiday</th>\n",
       "      <th>weekday</th>\n",
       "      <th>workingday</th>\n",
       "      <th>weathersit</th>\n",
       "      <th>temp</th>\n",
       "      <th>atemp</th>\n",
       "      <th>hum</th>\n",
       "      <th>windspeed</th>\n",
       "      <th>casual</th>\n",
       "      <th>registered</th>\n",
       "      <th>cnt</th>\n",
       "    </tr>\n",
       "  </thead>\n",
       "  <tbody>\n",
       "    <tr>\n",
       "      <th>0</th>\n",
       "      <td>1</td>\n",
       "      <td>2011-01-01</td>\n",
       "      <td>1</td>\n",
       "      <td>0</td>\n",
       "      <td>1</td>\n",
       "      <td>0</td>\n",
       "      <td>0</td>\n",
       "      <td>6</td>\n",
       "      <td>0</td>\n",
       "      <td>1</td>\n",
       "      <td>0.24</td>\n",
       "      <td>0.2879</td>\n",
       "      <td>0.81</td>\n",
       "      <td>0.0</td>\n",
       "      <td>3</td>\n",
       "      <td>13</td>\n",
       "      <td>16</td>\n",
       "    </tr>\n",
       "    <tr>\n",
       "      <th>1</th>\n",
       "      <td>2</td>\n",
       "      <td>2011-01-01</td>\n",
       "      <td>1</td>\n",
       "      <td>0</td>\n",
       "      <td>1</td>\n",
       "      <td>1</td>\n",
       "      <td>0</td>\n",
       "      <td>6</td>\n",
       "      <td>0</td>\n",
       "      <td>1</td>\n",
       "      <td>0.22</td>\n",
       "      <td>0.2727</td>\n",
       "      <td>0.80</td>\n",
       "      <td>0.0</td>\n",
       "      <td>8</td>\n",
       "      <td>32</td>\n",
       "      <td>40</td>\n",
       "    </tr>\n",
       "    <tr>\n",
       "      <th>2</th>\n",
       "      <td>3</td>\n",
       "      <td>2011-01-01</td>\n",
       "      <td>1</td>\n",
       "      <td>0</td>\n",
       "      <td>1</td>\n",
       "      <td>2</td>\n",
       "      <td>0</td>\n",
       "      <td>6</td>\n",
       "      <td>0</td>\n",
       "      <td>1</td>\n",
       "      <td>0.22</td>\n",
       "      <td>0.2727</td>\n",
       "      <td>0.80</td>\n",
       "      <td>0.0</td>\n",
       "      <td>5</td>\n",
       "      <td>27</td>\n",
       "      <td>32</td>\n",
       "    </tr>\n",
       "    <tr>\n",
       "      <th>3</th>\n",
       "      <td>4</td>\n",
       "      <td>2011-01-01</td>\n",
       "      <td>1</td>\n",
       "      <td>0</td>\n",
       "      <td>1</td>\n",
       "      <td>3</td>\n",
       "      <td>0</td>\n",
       "      <td>6</td>\n",
       "      <td>0</td>\n",
       "      <td>1</td>\n",
       "      <td>0.24</td>\n",
       "      <td>0.2879</td>\n",
       "      <td>0.75</td>\n",
       "      <td>0.0</td>\n",
       "      <td>3</td>\n",
       "      <td>10</td>\n",
       "      <td>13</td>\n",
       "    </tr>\n",
       "    <tr>\n",
       "      <th>4</th>\n",
       "      <td>5</td>\n",
       "      <td>2011-01-01</td>\n",
       "      <td>1</td>\n",
       "      <td>0</td>\n",
       "      <td>1</td>\n",
       "      <td>4</td>\n",
       "      <td>0</td>\n",
       "      <td>6</td>\n",
       "      <td>0</td>\n",
       "      <td>1</td>\n",
       "      <td>0.24</td>\n",
       "      <td>0.2879</td>\n",
       "      <td>0.75</td>\n",
       "      <td>0.0</td>\n",
       "      <td>0</td>\n",
       "      <td>1</td>\n",
       "      <td>1</td>\n",
       "    </tr>\n",
       "  </tbody>\n",
       "</table>\n",
       "</div>"
      ]
     },
     "execution_count": 39,
     "metadata": {},
     "output_type": "execute_result"
    }
   ],
   "execution_count": 39
  },
  {
   "cell_type": "markdown",
   "source": [
    "**Insight:**\n",
    "- Data harian (day.csv) dan per jam (hour.csv) berhasil dimuat untuk analisis lebih lanjut.\n",
    "- Dataset berisi informasi tentang peminjaman sepeda, termasuk tanggal, musim, cuaca, suhu, dan jumlah pengguna."
   ],
   "metadata": {
    "id": "MMi6xGaDkbCi"
   }
  },
  {
   "cell_type": "markdown",
   "metadata": {
    "id": "FHSiqaZp8DC1"
   },
   "source": [
    "### Assessing Data"
   ]
  },
  {
   "metadata": {},
   "cell_type": "markdown",
   "source": "#### Menilai Data day_df"
  },
  {
   "cell_type": "code",
   "source": [
    "print(\"Informasi day.csv:\")\n",
    "day_df.info()"
   ],
   "metadata": {
    "id": "ax-3tEjc9Cj1",
    "ExecuteTime": {
     "end_time": "2025-02-28T13:59:31.794550Z",
     "start_time": "2025-02-28T13:59:31.778061Z"
    }
   },
   "outputs": [
    {
     "name": "stdout",
     "output_type": "stream",
     "text": [
      "Informasi day.csv:\n",
      "<class 'pandas.core.frame.DataFrame'>\n",
      "RangeIndex: 731 entries, 0 to 730\n",
      "Data columns (total 16 columns):\n",
      " #   Column      Non-Null Count  Dtype  \n",
      "---  ------      --------------  -----  \n",
      " 0   instant     731 non-null    int64  \n",
      " 1   dteday      731 non-null    object \n",
      " 2   season      731 non-null    int64  \n",
      " 3   yr          731 non-null    int64  \n",
      " 4   mnth        731 non-null    int64  \n",
      " 5   holiday     731 non-null    int64  \n",
      " 6   weekday     731 non-null    int64  \n",
      " 7   workingday  731 non-null    int64  \n",
      " 8   weathersit  731 non-null    int64  \n",
      " 9   temp        731 non-null    float64\n",
      " 10  atemp       731 non-null    float64\n",
      " 11  hum         731 non-null    float64\n",
      " 12  windspeed   731 non-null    float64\n",
      " 13  casual      731 non-null    int64  \n",
      " 14  registered  731 non-null    int64  \n",
      " 15  cnt         731 non-null    int64  \n",
      "dtypes: float64(4), int64(11), object(1)\n",
      "memory usage: 91.5+ KB\n"
     ]
    }
   ],
   "execution_count": 40
  },
  {
   "metadata": {
    "ExecuteTime": {
     "end_time": "2025-02-28T13:59:32.282291Z",
     "start_time": "2025-02-28T13:59:32.265279Z"
    }
   },
   "cell_type": "code",
   "source": [
    "# Missing value\n",
    "print(\"\\nMissing Value di day.csv:\")\n",
    "day_df.isna().sum()"
   ],
   "outputs": [
    {
     "name": "stdout",
     "output_type": "stream",
     "text": [
      "\n",
      "Missing Value di day.csv:\n"
     ]
    },
    {
     "data": {
      "text/plain": [
       "instant       0\n",
       "dteday        0\n",
       "season        0\n",
       "yr            0\n",
       "mnth          0\n",
       "holiday       0\n",
       "weekday       0\n",
       "workingday    0\n",
       "weathersit    0\n",
       "temp          0\n",
       "atemp         0\n",
       "hum           0\n",
       "windspeed     0\n",
       "casual        0\n",
       "registered    0\n",
       "cnt           0\n",
       "dtype: int64"
      ]
     },
     "execution_count": 41,
     "metadata": {},
     "output_type": "execute_result"
    }
   ],
   "execution_count": 41
  },
  {
   "metadata": {
    "ExecuteTime": {
     "end_time": "2025-02-28T13:59:32.577941Z",
     "start_time": "2025-02-28T13:59:32.566800Z"
    }
   },
   "cell_type": "code",
   "source": [
    "# Duplikat\n",
    "print(\"\\nJumlah Duplikat di day.csv:\", day_df.duplicated().sum())"
   ],
   "outputs": [
    {
     "name": "stdout",
     "output_type": "stream",
     "text": [
      "\n",
      "Jumlah Duplikat di day.csv: 0\n"
     ]
    }
   ],
   "execution_count": 42
  },
  {
   "metadata": {
    "ExecuteTime": {
     "end_time": "2025-02-28T13:59:32.947847Z",
     "start_time": "2025-02-28T13:59:32.876986Z"
    }
   },
   "cell_type": "code",
   "source": [
    "# Statistik deskriptif\n",
    "print(\"\\nStatistik Deskriptif day.csv:\")\n",
    "day_df.describe()"
   ],
   "outputs": [
    {
     "name": "stdout",
     "output_type": "stream",
     "text": [
      "\n",
      "Statistik Deskriptif day.csv:\n"
     ]
    },
    {
     "data": {
      "text/plain": [
       "          instant      season          yr        mnth     holiday     weekday  \\\n",
       "count  731.000000  731.000000  731.000000  731.000000  731.000000  731.000000   \n",
       "mean   366.000000    2.496580    0.500684    6.519836    0.028728    2.997264   \n",
       "std    211.165812    1.110807    0.500342    3.451913    0.167155    2.004787   \n",
       "min      1.000000    1.000000    0.000000    1.000000    0.000000    0.000000   \n",
       "25%    183.500000    2.000000    0.000000    4.000000    0.000000    1.000000   \n",
       "50%    366.000000    3.000000    1.000000    7.000000    0.000000    3.000000   \n",
       "75%    548.500000    3.000000    1.000000   10.000000    0.000000    5.000000   \n",
       "max    731.000000    4.000000    1.000000   12.000000    1.000000    6.000000   \n",
       "\n",
       "       workingday  weathersit        temp       atemp         hum   windspeed  \\\n",
       "count  731.000000  731.000000  731.000000  731.000000  731.000000  731.000000   \n",
       "mean     0.683995    1.395349    0.495385    0.474354    0.627894    0.190486   \n",
       "std      0.465233    0.544894    0.183051    0.162961    0.142429    0.077498   \n",
       "min      0.000000    1.000000    0.059130    0.079070    0.000000    0.022392   \n",
       "25%      0.000000    1.000000    0.337083    0.337842    0.520000    0.134950   \n",
       "50%      1.000000    1.000000    0.498333    0.486733    0.626667    0.180975   \n",
       "75%      1.000000    2.000000    0.655417    0.608602    0.730209    0.233214   \n",
       "max      1.000000    3.000000    0.861667    0.840896    0.972500    0.507463   \n",
       "\n",
       "            casual   registered          cnt  \n",
       "count   731.000000   731.000000   731.000000  \n",
       "mean    848.176471  3656.172367  4504.348837  \n",
       "std     686.622488  1560.256377  1937.211452  \n",
       "min       2.000000    20.000000    22.000000  \n",
       "25%     315.500000  2497.000000  3152.000000  \n",
       "50%     713.000000  3662.000000  4548.000000  \n",
       "75%    1096.000000  4776.500000  5956.000000  \n",
       "max    3410.000000  6946.000000  8714.000000  "
      ],
      "text/html": [
       "<div>\n",
       "<style scoped>\n",
       "    .dataframe tbody tr th:only-of-type {\n",
       "        vertical-align: middle;\n",
       "    }\n",
       "\n",
       "    .dataframe tbody tr th {\n",
       "        vertical-align: top;\n",
       "    }\n",
       "\n",
       "    .dataframe thead th {\n",
       "        text-align: right;\n",
       "    }\n",
       "</style>\n",
       "<table border=\"1\" class=\"dataframe\">\n",
       "  <thead>\n",
       "    <tr style=\"text-align: right;\">\n",
       "      <th></th>\n",
       "      <th>instant</th>\n",
       "      <th>season</th>\n",
       "      <th>yr</th>\n",
       "      <th>mnth</th>\n",
       "      <th>holiday</th>\n",
       "      <th>weekday</th>\n",
       "      <th>workingday</th>\n",
       "      <th>weathersit</th>\n",
       "      <th>temp</th>\n",
       "      <th>atemp</th>\n",
       "      <th>hum</th>\n",
       "      <th>windspeed</th>\n",
       "      <th>casual</th>\n",
       "      <th>registered</th>\n",
       "      <th>cnt</th>\n",
       "    </tr>\n",
       "  </thead>\n",
       "  <tbody>\n",
       "    <tr>\n",
       "      <th>count</th>\n",
       "      <td>731.000000</td>\n",
       "      <td>731.000000</td>\n",
       "      <td>731.000000</td>\n",
       "      <td>731.000000</td>\n",
       "      <td>731.000000</td>\n",
       "      <td>731.000000</td>\n",
       "      <td>731.000000</td>\n",
       "      <td>731.000000</td>\n",
       "      <td>731.000000</td>\n",
       "      <td>731.000000</td>\n",
       "      <td>731.000000</td>\n",
       "      <td>731.000000</td>\n",
       "      <td>731.000000</td>\n",
       "      <td>731.000000</td>\n",
       "      <td>731.000000</td>\n",
       "    </tr>\n",
       "    <tr>\n",
       "      <th>mean</th>\n",
       "      <td>366.000000</td>\n",
       "      <td>2.496580</td>\n",
       "      <td>0.500684</td>\n",
       "      <td>6.519836</td>\n",
       "      <td>0.028728</td>\n",
       "      <td>2.997264</td>\n",
       "      <td>0.683995</td>\n",
       "      <td>1.395349</td>\n",
       "      <td>0.495385</td>\n",
       "      <td>0.474354</td>\n",
       "      <td>0.627894</td>\n",
       "      <td>0.190486</td>\n",
       "      <td>848.176471</td>\n",
       "      <td>3656.172367</td>\n",
       "      <td>4504.348837</td>\n",
       "    </tr>\n",
       "    <tr>\n",
       "      <th>std</th>\n",
       "      <td>211.165812</td>\n",
       "      <td>1.110807</td>\n",
       "      <td>0.500342</td>\n",
       "      <td>3.451913</td>\n",
       "      <td>0.167155</td>\n",
       "      <td>2.004787</td>\n",
       "      <td>0.465233</td>\n",
       "      <td>0.544894</td>\n",
       "      <td>0.183051</td>\n",
       "      <td>0.162961</td>\n",
       "      <td>0.142429</td>\n",
       "      <td>0.077498</td>\n",
       "      <td>686.622488</td>\n",
       "      <td>1560.256377</td>\n",
       "      <td>1937.211452</td>\n",
       "    </tr>\n",
       "    <tr>\n",
       "      <th>min</th>\n",
       "      <td>1.000000</td>\n",
       "      <td>1.000000</td>\n",
       "      <td>0.000000</td>\n",
       "      <td>1.000000</td>\n",
       "      <td>0.000000</td>\n",
       "      <td>0.000000</td>\n",
       "      <td>0.000000</td>\n",
       "      <td>1.000000</td>\n",
       "      <td>0.059130</td>\n",
       "      <td>0.079070</td>\n",
       "      <td>0.000000</td>\n",
       "      <td>0.022392</td>\n",
       "      <td>2.000000</td>\n",
       "      <td>20.000000</td>\n",
       "      <td>22.000000</td>\n",
       "    </tr>\n",
       "    <tr>\n",
       "      <th>25%</th>\n",
       "      <td>183.500000</td>\n",
       "      <td>2.000000</td>\n",
       "      <td>0.000000</td>\n",
       "      <td>4.000000</td>\n",
       "      <td>0.000000</td>\n",
       "      <td>1.000000</td>\n",
       "      <td>0.000000</td>\n",
       "      <td>1.000000</td>\n",
       "      <td>0.337083</td>\n",
       "      <td>0.337842</td>\n",
       "      <td>0.520000</td>\n",
       "      <td>0.134950</td>\n",
       "      <td>315.500000</td>\n",
       "      <td>2497.000000</td>\n",
       "      <td>3152.000000</td>\n",
       "    </tr>\n",
       "    <tr>\n",
       "      <th>50%</th>\n",
       "      <td>366.000000</td>\n",
       "      <td>3.000000</td>\n",
       "      <td>1.000000</td>\n",
       "      <td>7.000000</td>\n",
       "      <td>0.000000</td>\n",
       "      <td>3.000000</td>\n",
       "      <td>1.000000</td>\n",
       "      <td>1.000000</td>\n",
       "      <td>0.498333</td>\n",
       "      <td>0.486733</td>\n",
       "      <td>0.626667</td>\n",
       "      <td>0.180975</td>\n",
       "      <td>713.000000</td>\n",
       "      <td>3662.000000</td>\n",
       "      <td>4548.000000</td>\n",
       "    </tr>\n",
       "    <tr>\n",
       "      <th>75%</th>\n",
       "      <td>548.500000</td>\n",
       "      <td>3.000000</td>\n",
       "      <td>1.000000</td>\n",
       "      <td>10.000000</td>\n",
       "      <td>0.000000</td>\n",
       "      <td>5.000000</td>\n",
       "      <td>1.000000</td>\n",
       "      <td>2.000000</td>\n",
       "      <td>0.655417</td>\n",
       "      <td>0.608602</td>\n",
       "      <td>0.730209</td>\n",
       "      <td>0.233214</td>\n",
       "      <td>1096.000000</td>\n",
       "      <td>4776.500000</td>\n",
       "      <td>5956.000000</td>\n",
       "    </tr>\n",
       "    <tr>\n",
       "      <th>max</th>\n",
       "      <td>731.000000</td>\n",
       "      <td>4.000000</td>\n",
       "      <td>1.000000</td>\n",
       "      <td>12.000000</td>\n",
       "      <td>1.000000</td>\n",
       "      <td>6.000000</td>\n",
       "      <td>1.000000</td>\n",
       "      <td>3.000000</td>\n",
       "      <td>0.861667</td>\n",
       "      <td>0.840896</td>\n",
       "      <td>0.972500</td>\n",
       "      <td>0.507463</td>\n",
       "      <td>3410.000000</td>\n",
       "      <td>6946.000000</td>\n",
       "      <td>8714.000000</td>\n",
       "    </tr>\n",
       "  </tbody>\n",
       "</table>\n",
       "</div>"
      ]
     },
     "execution_count": 43,
     "metadata": {},
     "output_type": "execute_result"
    }
   ],
   "execution_count": 43
  },
  {
   "metadata": {},
   "cell_type": "markdown",
   "source": "#### Menilai Data hour_df"
  },
  {
   "metadata": {
    "ExecuteTime": {
     "end_time": "2025-02-28T13:59:33.312616Z",
     "start_time": "2025-02-28T13:59:33.294071Z"
    }
   },
   "cell_type": "code",
   "source": [
    "# Info dataset\n",
    "print(\"\\nInformasi hour.csv:\")\n",
    "hour_df.info()"
   ],
   "outputs": [
    {
     "name": "stdout",
     "output_type": "stream",
     "text": [
      "\n",
      "Informasi hour.csv:\n",
      "<class 'pandas.core.frame.DataFrame'>\n",
      "RangeIndex: 17379 entries, 0 to 17378\n",
      "Data columns (total 17 columns):\n",
      " #   Column      Non-Null Count  Dtype  \n",
      "---  ------      --------------  -----  \n",
      " 0   instant     17379 non-null  int64  \n",
      " 1   dteday      17379 non-null  object \n",
      " 2   season      17379 non-null  int64  \n",
      " 3   yr          17379 non-null  int64  \n",
      " 4   mnth        17379 non-null  int64  \n",
      " 5   hr          17379 non-null  int64  \n",
      " 6   holiday     17379 non-null  int64  \n",
      " 7   weekday     17379 non-null  int64  \n",
      " 8   workingday  17379 non-null  int64  \n",
      " 9   weathersit  17379 non-null  int64  \n",
      " 10  temp        17379 non-null  float64\n",
      " 11  atemp       17379 non-null  float64\n",
      " 12  hum         17379 non-null  float64\n",
      " 13  windspeed   17379 non-null  float64\n",
      " 14  casual      17379 non-null  int64  \n",
      " 15  registered  17379 non-null  int64  \n",
      " 16  cnt         17379 non-null  int64  \n",
      "dtypes: float64(4), int64(12), object(1)\n",
      "memory usage: 2.3+ MB\n"
     ]
    }
   ],
   "execution_count": 44
  },
  {
   "metadata": {
    "ExecuteTime": {
     "end_time": "2025-02-28T13:59:33.550636Z",
     "start_time": "2025-02-28T13:59:33.535591Z"
    }
   },
   "cell_type": "code",
   "source": [
    "# Missing value\n",
    "print(\"\\nMissing Value di hour.csv:\")\n",
    "hour_df.isna().sum()"
   ],
   "outputs": [
    {
     "name": "stdout",
     "output_type": "stream",
     "text": [
      "\n",
      "Missing Value di hour.csv:\n"
     ]
    },
    {
     "data": {
      "text/plain": [
       "instant       0\n",
       "dteday        0\n",
       "season        0\n",
       "yr            0\n",
       "mnth          0\n",
       "hr            0\n",
       "holiday       0\n",
       "weekday       0\n",
       "workingday    0\n",
       "weathersit    0\n",
       "temp          0\n",
       "atemp         0\n",
       "hum           0\n",
       "windspeed     0\n",
       "casual        0\n",
       "registered    0\n",
       "cnt           0\n",
       "dtype: int64"
      ]
     },
     "execution_count": 45,
     "metadata": {},
     "output_type": "execute_result"
    }
   ],
   "execution_count": 45
  },
  {
   "metadata": {
    "ExecuteTime": {
     "end_time": "2025-02-28T13:59:33.878877Z",
     "start_time": "2025-02-28T13:59:33.855757Z"
    }
   },
   "cell_type": "code",
   "source": [
    "# Duplikat\n",
    "print(\"Jumlah Duplikat di hour.csv:\", hour_df.duplicated().sum())"
   ],
   "outputs": [
    {
     "name": "stdout",
     "output_type": "stream",
     "text": [
      "Jumlah Duplikat di hour.csv: 0\n"
     ]
    }
   ],
   "execution_count": 46
  },
  {
   "metadata": {
    "ExecuteTime": {
     "end_time": "2025-02-28T13:59:34.182140Z",
     "start_time": "2025-02-28T13:59:34.103908Z"
    }
   },
   "cell_type": "code",
   "source": [
    "# Statistik deskriptif\n",
    "print(\"\\nStatistik Deskriptif hour.csv:\")\n",
    "hour_df.describe()"
   ],
   "outputs": [
    {
     "name": "stdout",
     "output_type": "stream",
     "text": [
      "\n",
      "Statistik Deskriptif hour.csv:\n"
     ]
    },
    {
     "data": {
      "text/plain": [
       "          instant        season            yr          mnth            hr  \\\n",
       "count  17379.0000  17379.000000  17379.000000  17379.000000  17379.000000   \n",
       "mean    8690.0000      2.501640      0.502561      6.537775     11.546752   \n",
       "std     5017.0295      1.106918      0.500008      3.438776      6.914405   \n",
       "min        1.0000      1.000000      0.000000      1.000000      0.000000   \n",
       "25%     4345.5000      2.000000      0.000000      4.000000      6.000000   \n",
       "50%     8690.0000      3.000000      1.000000      7.000000     12.000000   \n",
       "75%    13034.5000      3.000000      1.000000     10.000000     18.000000   \n",
       "max    17379.0000      4.000000      1.000000     12.000000     23.000000   \n",
       "\n",
       "            holiday       weekday    workingday    weathersit          temp  \\\n",
       "count  17379.000000  17379.000000  17379.000000  17379.000000  17379.000000   \n",
       "mean       0.028770      3.003683      0.682721      1.425283      0.496987   \n",
       "std        0.167165      2.005771      0.465431      0.639357      0.192556   \n",
       "min        0.000000      0.000000      0.000000      1.000000      0.020000   \n",
       "25%        0.000000      1.000000      0.000000      1.000000      0.340000   \n",
       "50%        0.000000      3.000000      1.000000      1.000000      0.500000   \n",
       "75%        0.000000      5.000000      1.000000      2.000000      0.660000   \n",
       "max        1.000000      6.000000      1.000000      4.000000      1.000000   \n",
       "\n",
       "              atemp           hum     windspeed        casual    registered  \\\n",
       "count  17379.000000  17379.000000  17379.000000  17379.000000  17379.000000   \n",
       "mean       0.475775      0.627229      0.190098     35.676218    153.786869   \n",
       "std        0.171850      0.192930      0.122340     49.305030    151.357286   \n",
       "min        0.000000      0.000000      0.000000      0.000000      0.000000   \n",
       "25%        0.333300      0.480000      0.104500      4.000000     34.000000   \n",
       "50%        0.484800      0.630000      0.194000     17.000000    115.000000   \n",
       "75%        0.621200      0.780000      0.253700     48.000000    220.000000   \n",
       "max        1.000000      1.000000      0.850700    367.000000    886.000000   \n",
       "\n",
       "                cnt  \n",
       "count  17379.000000  \n",
       "mean     189.463088  \n",
       "std      181.387599  \n",
       "min        1.000000  \n",
       "25%       40.000000  \n",
       "50%      142.000000  \n",
       "75%      281.000000  \n",
       "max      977.000000  "
      ],
      "text/html": [
       "<div>\n",
       "<style scoped>\n",
       "    .dataframe tbody tr th:only-of-type {\n",
       "        vertical-align: middle;\n",
       "    }\n",
       "\n",
       "    .dataframe tbody tr th {\n",
       "        vertical-align: top;\n",
       "    }\n",
       "\n",
       "    .dataframe thead th {\n",
       "        text-align: right;\n",
       "    }\n",
       "</style>\n",
       "<table border=\"1\" class=\"dataframe\">\n",
       "  <thead>\n",
       "    <tr style=\"text-align: right;\">\n",
       "      <th></th>\n",
       "      <th>instant</th>\n",
       "      <th>season</th>\n",
       "      <th>yr</th>\n",
       "      <th>mnth</th>\n",
       "      <th>hr</th>\n",
       "      <th>holiday</th>\n",
       "      <th>weekday</th>\n",
       "      <th>workingday</th>\n",
       "      <th>weathersit</th>\n",
       "      <th>temp</th>\n",
       "      <th>atemp</th>\n",
       "      <th>hum</th>\n",
       "      <th>windspeed</th>\n",
       "      <th>casual</th>\n",
       "      <th>registered</th>\n",
       "      <th>cnt</th>\n",
       "    </tr>\n",
       "  </thead>\n",
       "  <tbody>\n",
       "    <tr>\n",
       "      <th>count</th>\n",
       "      <td>17379.0000</td>\n",
       "      <td>17379.000000</td>\n",
       "      <td>17379.000000</td>\n",
       "      <td>17379.000000</td>\n",
       "      <td>17379.000000</td>\n",
       "      <td>17379.000000</td>\n",
       "      <td>17379.000000</td>\n",
       "      <td>17379.000000</td>\n",
       "      <td>17379.000000</td>\n",
       "      <td>17379.000000</td>\n",
       "      <td>17379.000000</td>\n",
       "      <td>17379.000000</td>\n",
       "      <td>17379.000000</td>\n",
       "      <td>17379.000000</td>\n",
       "      <td>17379.000000</td>\n",
       "      <td>17379.000000</td>\n",
       "    </tr>\n",
       "    <tr>\n",
       "      <th>mean</th>\n",
       "      <td>8690.0000</td>\n",
       "      <td>2.501640</td>\n",
       "      <td>0.502561</td>\n",
       "      <td>6.537775</td>\n",
       "      <td>11.546752</td>\n",
       "      <td>0.028770</td>\n",
       "      <td>3.003683</td>\n",
       "      <td>0.682721</td>\n",
       "      <td>1.425283</td>\n",
       "      <td>0.496987</td>\n",
       "      <td>0.475775</td>\n",
       "      <td>0.627229</td>\n",
       "      <td>0.190098</td>\n",
       "      <td>35.676218</td>\n",
       "      <td>153.786869</td>\n",
       "      <td>189.463088</td>\n",
       "    </tr>\n",
       "    <tr>\n",
       "      <th>std</th>\n",
       "      <td>5017.0295</td>\n",
       "      <td>1.106918</td>\n",
       "      <td>0.500008</td>\n",
       "      <td>3.438776</td>\n",
       "      <td>6.914405</td>\n",
       "      <td>0.167165</td>\n",
       "      <td>2.005771</td>\n",
       "      <td>0.465431</td>\n",
       "      <td>0.639357</td>\n",
       "      <td>0.192556</td>\n",
       "      <td>0.171850</td>\n",
       "      <td>0.192930</td>\n",
       "      <td>0.122340</td>\n",
       "      <td>49.305030</td>\n",
       "      <td>151.357286</td>\n",
       "      <td>181.387599</td>\n",
       "    </tr>\n",
       "    <tr>\n",
       "      <th>min</th>\n",
       "      <td>1.0000</td>\n",
       "      <td>1.000000</td>\n",
       "      <td>0.000000</td>\n",
       "      <td>1.000000</td>\n",
       "      <td>0.000000</td>\n",
       "      <td>0.000000</td>\n",
       "      <td>0.000000</td>\n",
       "      <td>0.000000</td>\n",
       "      <td>1.000000</td>\n",
       "      <td>0.020000</td>\n",
       "      <td>0.000000</td>\n",
       "      <td>0.000000</td>\n",
       "      <td>0.000000</td>\n",
       "      <td>0.000000</td>\n",
       "      <td>0.000000</td>\n",
       "      <td>1.000000</td>\n",
       "    </tr>\n",
       "    <tr>\n",
       "      <th>25%</th>\n",
       "      <td>4345.5000</td>\n",
       "      <td>2.000000</td>\n",
       "      <td>0.000000</td>\n",
       "      <td>4.000000</td>\n",
       "      <td>6.000000</td>\n",
       "      <td>0.000000</td>\n",
       "      <td>1.000000</td>\n",
       "      <td>0.000000</td>\n",
       "      <td>1.000000</td>\n",
       "      <td>0.340000</td>\n",
       "      <td>0.333300</td>\n",
       "      <td>0.480000</td>\n",
       "      <td>0.104500</td>\n",
       "      <td>4.000000</td>\n",
       "      <td>34.000000</td>\n",
       "      <td>40.000000</td>\n",
       "    </tr>\n",
       "    <tr>\n",
       "      <th>50%</th>\n",
       "      <td>8690.0000</td>\n",
       "      <td>3.000000</td>\n",
       "      <td>1.000000</td>\n",
       "      <td>7.000000</td>\n",
       "      <td>12.000000</td>\n",
       "      <td>0.000000</td>\n",
       "      <td>3.000000</td>\n",
       "      <td>1.000000</td>\n",
       "      <td>1.000000</td>\n",
       "      <td>0.500000</td>\n",
       "      <td>0.484800</td>\n",
       "      <td>0.630000</td>\n",
       "      <td>0.194000</td>\n",
       "      <td>17.000000</td>\n",
       "      <td>115.000000</td>\n",
       "      <td>142.000000</td>\n",
       "    </tr>\n",
       "    <tr>\n",
       "      <th>75%</th>\n",
       "      <td>13034.5000</td>\n",
       "      <td>3.000000</td>\n",
       "      <td>1.000000</td>\n",
       "      <td>10.000000</td>\n",
       "      <td>18.000000</td>\n",
       "      <td>0.000000</td>\n",
       "      <td>5.000000</td>\n",
       "      <td>1.000000</td>\n",
       "      <td>2.000000</td>\n",
       "      <td>0.660000</td>\n",
       "      <td>0.621200</td>\n",
       "      <td>0.780000</td>\n",
       "      <td>0.253700</td>\n",
       "      <td>48.000000</td>\n",
       "      <td>220.000000</td>\n",
       "      <td>281.000000</td>\n",
       "    </tr>\n",
       "    <tr>\n",
       "      <th>max</th>\n",
       "      <td>17379.0000</td>\n",
       "      <td>4.000000</td>\n",
       "      <td>1.000000</td>\n",
       "      <td>12.000000</td>\n",
       "      <td>23.000000</td>\n",
       "      <td>1.000000</td>\n",
       "      <td>6.000000</td>\n",
       "      <td>1.000000</td>\n",
       "      <td>4.000000</td>\n",
       "      <td>1.000000</td>\n",
       "      <td>1.000000</td>\n",
       "      <td>1.000000</td>\n",
       "      <td>0.850700</td>\n",
       "      <td>367.000000</td>\n",
       "      <td>886.000000</td>\n",
       "      <td>977.000000</td>\n",
       "    </tr>\n",
       "  </tbody>\n",
       "</table>\n",
       "</div>"
      ]
     },
     "execution_count": 47,
     "metadata": {},
     "output_type": "execute_result"
    }
   ],
   "execution_count": 47
  },
  {
   "metadata": {},
   "cell_type": "markdown",
   "source": [
    "**Insight:**\n",
    "\n",
    "Berikut adalah hasil penilaian data dari kedua dataset:\n",
    "\n",
    "| Dataframe | Tipe Data                                      | Missing Value | Duplicate Data | Inaccurate Value                     |\n",
    "|-----------|------------------------------------------------|---------------|----------------|--------------------------------------|\n",
    "| day.csv   | int64 (11 kolom), float64 (4 kolom), object (1 kolom: dteday) | Tidak ada (0 di semua kolom) | 0 baris        | Tidak ada (nilai seperti temp, hum, cnt sesuai deskripsi) |\n",
    "| hour.csv  | int64 (12 kolom), float64 (4 kolom), object (1 kolom: dteday) | Tidak ada (0 di semua kolom) | 0 baris        | Tidak ada (nilai sesuai deskripsi, hr 0-23 valid)         |\n",
    "\n",
    "**Keterangan:**\n",
    "- **Tipe Data:** `dteday` di kedua dataset adalah object (string), perlu diubah ke datetime. Lainnya sesuai (numerik).\n",
    "- **Missing Value:** Tidak ada nilai hilang di kedua dataset.\n",
    "- **Duplicate Data:** Tidak ada duplikat di kedua dataset.\n",
    "- **Inaccurate Value:** Tidak ditemukan nilai yang tidak sesuai (misalnya, `temp`, `hum`, `windspeed` dalam rentang normalisasi, `hr` di hour.csv dari 0-23)."
   ]
  },
  {
   "cell_type": "markdown",
   "metadata": {
    "id": "EhN5R4hr8DC1"
   },
   "source": [
    "### Cleaning Data"
   ]
  },
  {
   "cell_type": "code",
   "source": [
    "# Ubah dteday ke datetime\n",
    "day_df['dteday'] = pd.to_datetime(day_df['dteday'])\n",
    "hour_df['dteday'] = pd.to_datetime(hour_df['dteday'])"
   ],
   "metadata": {
    "id": "jVnYpprE9Evz",
    "ExecuteTime": {
     "end_time": "2025-02-28T13:59:34.431053Z",
     "start_time": "2025-02-28T13:59:34.407107Z"
    }
   },
   "outputs": [],
   "execution_count": 48
  },
  {
   "metadata": {
    "ExecuteTime": {
     "end_time": "2025-02-28T13:59:34.692375Z",
     "start_time": "2025-02-28T13:59:34.676226Z"
    }
   },
   "cell_type": "code",
   "source": [
    "# Gabungkan dataset (hour.csv sebagai basis)\n",
    "combined_df = pd.merge(hour_df, day_df[['dteday', 'season', 'weekday', 'workingday', 'weathersit']],\n",
    "                       on='dteday', how='left', suffixes=('_hour', '_day'))\n"
   ],
   "outputs": [],
   "execution_count": 49
  },
  {
   "metadata": {
    "ExecuteTime": {
     "end_time": "2025-02-28T13:59:34.946318Z",
     "start_time": "2025-02-28T13:59:34.927806Z"
    }
   },
   "cell_type": "code",
   "source": [
    "# Verifikasi setelah pembersihan\n",
    "print(\"Informasi combined_df setelah Cleaning:\")\n",
    "combined_df.info()"
   ],
   "outputs": [
    {
     "name": "stdout",
     "output_type": "stream",
     "text": [
      "Informasi combined_df setelah Cleaning:\n",
      "<class 'pandas.core.frame.DataFrame'>\n",
      "RangeIndex: 17379 entries, 0 to 17378\n",
      "Data columns (total 21 columns):\n",
      " #   Column           Non-Null Count  Dtype         \n",
      "---  ------           --------------  -----         \n",
      " 0   instant          17379 non-null  int64         \n",
      " 1   dteday           17379 non-null  datetime64[ns]\n",
      " 2   season_hour      17379 non-null  int64         \n",
      " 3   yr               17379 non-null  int64         \n",
      " 4   mnth             17379 non-null  int64         \n",
      " 5   hr               17379 non-null  int64         \n",
      " 6   holiday          17379 non-null  int64         \n",
      " 7   weekday_hour     17379 non-null  int64         \n",
      " 8   workingday_hour  17379 non-null  int64         \n",
      " 9   weathersit_hour  17379 non-null  int64         \n",
      " 10  temp             17379 non-null  float64       \n",
      " 11  atemp            17379 non-null  float64       \n",
      " 12  hum              17379 non-null  float64       \n",
      " 13  windspeed        17379 non-null  float64       \n",
      " 14  casual           17379 non-null  int64         \n",
      " 15  registered       17379 non-null  int64         \n",
      " 16  cnt              17379 non-null  int64         \n",
      " 17  season_day       17379 non-null  int64         \n",
      " 18  weekday_day      17379 non-null  int64         \n",
      " 19  workingday_day   17379 non-null  int64         \n",
      " 20  weathersit_day   17379 non-null  int64         \n",
      "dtypes: datetime64[ns](1), float64(4), int64(16)\n",
      "memory usage: 2.8 MB\n"
     ]
    }
   ],
   "execution_count": 50
  },
  {
   "metadata": {
    "ExecuteTime": {
     "end_time": "2025-02-28T13:59:35.150669Z",
     "start_time": "2025-02-28T13:59:35.134767Z"
    }
   },
   "cell_type": "code",
   "source": [
    "print(\"\\nMissing Value di combined_df:\")\n",
    "combined_df.isna().sum()"
   ],
   "outputs": [
    {
     "name": "stdout",
     "output_type": "stream",
     "text": [
      "\n",
      "Missing Value di combined_df:\n"
     ]
    },
    {
     "data": {
      "text/plain": [
       "instant            0\n",
       "dteday             0\n",
       "season_hour        0\n",
       "yr                 0\n",
       "mnth               0\n",
       "hr                 0\n",
       "holiday            0\n",
       "weekday_hour       0\n",
       "workingday_hour    0\n",
       "weathersit_hour    0\n",
       "temp               0\n",
       "atemp              0\n",
       "hum                0\n",
       "windspeed          0\n",
       "casual             0\n",
       "registered         0\n",
       "cnt                0\n",
       "season_day         0\n",
       "weekday_day        0\n",
       "workingday_day     0\n",
       "weathersit_day     0\n",
       "dtype: int64"
      ]
     },
     "execution_count": 51,
     "metadata": {},
     "output_type": "execute_result"
    }
   ],
   "execution_count": 51
  },
  {
   "cell_type": "markdown",
   "source": [
    "**Insight:**\n",
    "- `dteday` diubah ke datetime untuk memudahkan analisis waktu.\n",
    "- Dataset digabungkan dengan `hour.csv` sebagai basis, menambahkan fitur harian (`season`, `weekday`, `workingday`, `weathersit`).\n",
    "- Tidak ada missing value setelah penggabungan.\n"
   ],
   "metadata": {
    "id": "Q_5ejIqckiSP"
   }
  },
  {
   "cell_type": "markdown",
   "metadata": {
    "id": "gp-Y6wU38DC1"
   },
   "source": [
    "## Exploratory Data Analysis (EDA)"
   ]
  },
  {
   "metadata": {},
   "cell_type": "markdown",
   "source": "### Tren penggunaan berdasarkan hari dalam seminggu (2012)"
  },
  {
   "metadata": {
    "id": "e9CQCZjk8DC2",
    "ExecuteTime": {
     "end_time": "2025-02-28T13:59:35.363681Z",
     "start_time": "2025-02-28T13:59:35.348257Z"
    }
   },
   "cell_type": "code",
   "source": [
    "weekday_usage_2012 = combined_df[combined_df['yr'] == 1].groupby('weekday_day')['cnt'].mean()\n",
    "print(\"Rata-rata Penggunaan per Hari dalam Seminggu (2012):\")\n",
    "print(weekday_usage_2012)"
   ],
   "outputs": [
    {
     "name": "stdout",
     "output_type": "stream",
     "text": [
      "Rata-rata Penggunaan per Hari dalam Seminggu (2012):\n",
      "weekday_day\n",
      "0    210.033832\n",
      "1    221.287781\n",
      "2    234.582453\n",
      "3    243.883628\n",
      "4    249.472713\n",
      "5    245.019231\n",
      "6    238.833333\n",
      "Name: cnt, dtype: float64\n"
     ]
    }
   ],
   "execution_count": 52
  },
  {
   "metadata": {},
   "cell_type": "markdown",
   "source": "### Casual vs Registered Pengguna"
  },
  {
   "metadata": {
    "ExecuteTime": {
     "end_time": "2025-02-28T13:59:35.521944Z",
     "start_time": "2025-02-28T13:59:35.510010Z"
    }
   },
   "cell_type": "code",
   "source": [
    "user_type = combined_df[['casual', 'registered']].mean()\n",
    "print(\"\\nRata-rata Pengguna Casual vs Registered:\")\n",
    "print(user_type)"
   ],
   "outputs": [
    {
     "name": "stdout",
     "output_type": "stream",
     "text": [
      "\n",
      "Rata-rata Pengguna Casual vs Registered:\n",
      "casual         35.676218\n",
      "registered    153.786869\n",
      "dtype: float64\n"
     ]
    }
   ],
   "execution_count": 53
  },
  {
   "metadata": {},
   "cell_type": "markdown",
   "source": "### Pengaruh cuaca di 2012"
  },
  {
   "metadata": {
    "ExecuteTime": {
     "end_time": "2025-02-28T13:59:35.663002Z",
     "start_time": "2025-02-28T13:59:35.648028Z"
    }
   },
   "cell_type": "code",
   "source": [
    "weather_usage_2012 = combined_df[combined_df['yr'] == 1].groupby('weathersit_day')['cnt'].mean()\n",
    "print(\"\\nRata-rata Penggunaan per Kondisi Cuaca (2012):\")\n",
    "print(weather_usage_2012)"
   ],
   "outputs": [
    {
     "name": "stdout",
     "output_type": "stream",
     "text": [
      "\n",
      "Rata-rata Penggunaan per Kondisi Cuaca (2012):\n",
      "weathersit_day\n",
      "1    250.596161\n",
      "2    209.176831\n",
      "3    105.429752\n",
      "Name: cnt, dtype: float64\n"
     ]
    }
   ],
   "execution_count": 54
  },
  {
   "metadata": {},
   "cell_type": "markdown",
   "source": "### Total penggunaan per musim (2011-2012)"
  },
  {
   "metadata": {
    "ExecuteTime": {
     "end_time": "2025-02-28T13:59:35.950132Z",
     "start_time": "2025-02-28T13:59:35.936135Z"
    }
   },
   "cell_type": "code",
   "source": [
    "season_total = combined_df.groupby('season_day')['cnt'].sum()\n",
    "print(\"\\nTotal Penggunaan per Musim (2011-2012):\")\n",
    "print(season_total)"
   ],
   "outputs": [
    {
     "name": "stdout",
     "output_type": "stream",
     "text": [
      "\n",
      "Total Penggunaan per Musim (2011-2012):\n",
      "season_day\n",
      "1     471348\n",
      "2     918589\n",
      "3    1061129\n",
      "4     841613\n",
      "Name: cnt, dtype: int64\n"
     ]
    }
   ],
   "execution_count": 55
  },
  {
   "metadata": {},
   "cell_type": "markdown",
   "source": "### Pola penggunaan per jam di musim tersibuk 2012"
  },
  {
   "metadata": {
    "ExecuteTime": {
     "end_time": "2025-02-28T13:59:36.021673Z",
     "start_time": "2025-02-28T13:59:36.006373Z"
    }
   },
   "cell_type": "code",
   "source": [
    "fall_2012_hour = combined_df[(combined_df['season_day'] == 3) & (combined_df['yr'] == 1)].groupby('hr')['cnt'].mean()\n",
    "print(\"\\nRata-rata Penggunaan per Jam di Musim Fall 2012:\")\n",
    "print(fall_2012_hour)"
   ],
   "outputs": [
    {
     "name": "stdout",
     "output_type": "stream",
     "text": [
      "\n",
      "Rata-rata Penggunaan per Jam di Musim Fall 2012:\n",
      "hr\n",
      "0      86.627660\n",
      "1      50.851064\n",
      "2      35.212766\n",
      "3      17.329787\n",
      "4       9.702128\n",
      "5      32.638298\n",
      "6     121.138298\n",
      "7     334.106383\n",
      "8     517.361702\n",
      "9     314.340426\n",
      "10    265.042553\n",
      "11    307.585106\n",
      "12    367.202128\n",
      "13    361.085106\n",
      "14    341.287234\n",
      "15    348.712766\n",
      "16    446.893617\n",
      "17    691.914894\n",
      "18    655.244681\n",
      "19    503.159574\n",
      "20    373.085106\n",
      "21    282.744681\n",
      "22    215.574468\n",
      "23    145.404255\n",
      "Name: cnt, dtype: float64\n"
     ]
    }
   ],
   "execution_count": 56
  },
  {
   "cell_type": "markdown",
   "source": [
    "**Insight:**\n",
    "- Penggunaan sepeda di 2012 lebih tinggi pada hari kerja (weekday 1-5, rata-rata 221-249) dibandingkan akhir pekan (weekday 0 dan 6, 210-238), menunjukkan kebutuhan jadwal tambahan pada hari kerja.\n",
    "\n",
    "- Pengguna registered (rata-rata 153) jauh lebih banyak daripada casual (35), menunjukkan pelanggan utama adalah pengguna rutin.\n",
    "\n",
    "- Cuaca cerah meningkatkan penggunaan dibandingkan cuaca buruk, hal penting untuk perencanaan operasional.\n",
    "\n",
    "- Musim Fall (season 3) memiliki total penggunaan tertinggi, jauh di atas musim lain.\n",
    "\n",
    "- Penggunaan sepeda mencapai puncaknya pada pagi hari, pukul 07:00–08:00 dan sore hari sekitar pukul 16:00–18:00. Setelah pukul 19:00, penyewaan menurun secara bertahap hingga dini hari."
   ],
   "metadata": {
    "id": "th_Lzl2Fkj9O"
   }
  },
  {
   "cell_type": "markdown",
   "metadata": {
    "id": "zsyZjqak8DC2"
   },
   "source": [
    "## Visualization & Explanatory Analysis"
   ]
  },
  {
   "cell_type": "markdown",
   "metadata": {
    "id": "HZxOiQ6n8DC2"
   },
   "source": "### Pertanyaan 1: Bagaimana tren penggunaan sepeda harian berdasarkan hari dalam seminggu di tahun 2012?"
  },
  {
   "cell_type": "code",
   "metadata": {
    "id": "1swJUdAD8DC2",
    "ExecuteTime": {
     "end_time": "2025-02-28T13:59:36.970427Z",
     "start_time": "2025-02-28T13:59:36.134626Z"
    }
   },
   "source": [
    "plt.figure(figsize=(10, 6))\n",
    "ax = sns.barplot(x='weekday_day', y='cnt',\n",
    "                 data=combined_df[combined_df['yr'] == 1], palette='muted')\n",
    "\n",
    "days = ['Minggu', 'Senin', 'Selasa', 'Rabu', 'Kamis', 'Jumat', 'Sabtu']\n",
    "plt.xticks(ticks=range(7), labels=days, fontsize=12)\n",
    "for p in ax.patches:\n",
    "    ax.annotate(f'{p.get_height():.0f}',\n",
    "                (p.get_x() + p.get_width() / 2., p.get_height()),\n",
    "                ha='center', va='center',\n",
    "                xytext=(0, 20),\n",
    "                textcoords='offset points',\n",
    "                fontsize=12)\n",
    "plt.title('Tren Penggunaan Sepeda Harian (2012)', fontsize=14)\n",
    "plt.xlabel(None)\n",
    "plt.ylabel('Rata-rata Penggunaan (cnt)', fontsize=12)\n",
    "plt.show()"
   ],
   "outputs": [
    {
     "data": {
      "text/plain": [
       "<Figure size 1000x600 with 1 Axes>"
      ],
      "image/png": "[encoded data removed]"
     },
     "metadata": {},
     "output_type": "display_data"
    }
   ],
   "execution_count": 57
  },
  {
   "metadata": {},
   "cell_type": "markdown",
   "source": [
    "**Insight:**\n",
    "Barplot menunjukkan penggunaan harian di 2012 lebih tinggi pada hari kerja dibandingkan akhir pekan. Puncak terjadi pada hari Kamis. Hal ini bisa menambah peluang dengan menyarankan penambahan sepeda pada pertengahan minggu.\n"
   ]
  },
  {
   "cell_type": "markdown",
   "metadata": {
    "id": "DgHI7CiU8DC2"
   },
   "source": "### Pertanyaan 2:  Musim mana penggunaan sepeda tertinggi di tahun 2011-2012?"
  },
  {
   "cell_type": "code",
   "metadata": {
    "id": "Go0lCsvO8DC2",
    "ExecuteTime": {
     "end_time": "2025-02-28T13:59:37.273728Z",
     "start_time": "2025-02-28T13:59:37.017422Z"
    }
   },
   "source": [
    "byseason_df = combined_df.groupby(by=\"season_day\").cnt.sum().reset_index()\n",
    "byseason_df.rename(columns={\n",
    "    \"cnt\": \"total_usage\"\n",
    "}, inplace=True)\n",
    "\n",
    "colors = [\"#1f77b4\", \"#ff7f0e\", \"#2ca02c\", \"#d62728\"]  # Biru, Oranye, Hijau, Merah\n",
    "plt.figure(figsize=(10, 5))\n",
    "sns.barplot(\n",
    "    y=\"total_usage\",\n",
    "    x=\"season_day\",\n",
    "    data=byseason_df.sort_values(by=\"total_usage\", ascending=False),\n",
    "    palette=colors\n",
    ")\n",
    "\n",
    "plt.title(\"Total Penggunaan Sepeda per Musim (2011-2012)\", loc=\"center\", fontsize=15)\n",
    "plt.ylabel(\"Total penggunaan sepeda\", fontsize=12)\n",
    "plt.xlabel(None)\n",
    "seasons = ['Springer', 'Summer', 'Fall', 'Winter']\n",
    "plt.xticks(ticks=range(4), labels=seasons, fontsize=12)\n",
    "\n",
    "for index, row in byseason_df.iterrows():\n",
    "    plt.text(\n",
    "        x=index,  # Position of the bar\n",
    "        y=row[\"total_usage\"] + 5000,  # Slightly above the bar\n",
    "        s=f\"{int(row['total_usage'])}\",  # Value to display\n",
    "        ha=\"center\",  # Horizontal alignment\n",
    "        va=\"bottom\",  # Vertical alignment\n",
    "        fontsize=12\n",
    "    )\n",
    "plt.show()"
   ],
   "outputs": [
    {
     "data": {
      "text/plain": [
       "<Figure size 1000x500 with 1 Axes>"
      ],
      "image/png": "[encoded data removed]"
     },
     "metadata": {},
     "output_type": "display_data"
    }
   ],
   "execution_count": 58
  },
  {
   "cell_type": "markdown",
   "source": [
    "**Insight:**\n",
    "Barplot menunjukkan bahwa musim Fall (3) memiliki total penggunaan tertinggi (1.06 juta), dibandingkan Summer (918 ribu), Winter (841 ribu), dan Springer (471 ribu). Ini menyarankan prioritas stok sepeda lebih banyak pada musim Fall."
   ],
   "metadata": {
    "id": "_0-36BDLklRg"
   }
  },
  {
   "metadata": {},
   "cell_type": "markdown",
   "source": "### Pertanyaan 3: Bagaimana pola penggunaan sepeda per jam di musim tertinggi 2012?"
  },
  {
   "metadata": {
    "ExecuteTime": {
     "end_time": "2025-02-28T13:59:39.330456Z",
     "start_time": "2025-02-28T13:59:37.318365Z"
    }
   },
   "cell_type": "code",
   "source": [
    "plt.figure(figsize=(12, 6))\n",
    "sns.lineplot(x='hr', y='cnt', hue='workingday_day',\n",
    "             data=combined_df[(combined_df['season_day'] == 3) & (combined_df['yr'] == 1)],\n",
    "             palette='coolwarm')\n",
    "plt.xticks(ticks=range(0, 24, 1),\n",
    "           labels=[f'{i:02d}' for i in range(24)],\n",
    "           fontsize=10)\n",
    "plt.title('Pola Penggunaan Sepeda per Jam (Fall 2012)', fontsize=14)\n",
    "plt.xlabel(None)\n",
    "plt.ylabel('Rata-rata Penggunaan (cnt)', fontsize=12)\n",
    "plt.legend(title='Hari Kerja', loc='upper right')\n",
    "plt.show()"
   ],
   "outputs": [
    {
     "data": {
      "text/plain": [
       "<Figure size 1200x600 with 1 Axes>"
      ],
      "image/png": "[encoded data removed]"
     },
     "metadata": {},
     "output_type": "display_data"
    }
   ],
   "execution_count": 59
  },
  {
   "metadata": {},
   "cell_type": "markdown",
   "source": [
    "**Insight:**\n",
    "Sebelumnya kita telah mengetahui bahwa musim dengan penggunaan tertinggi ada di musim Fall.\n",
    "\n",
    "Lineplot menunjukkan pola Fall 2012: pada hari kerja, penggunaan melonjak di jam 8 dan 17-18, sedangkan hari non-kerja lebih merata (siang hari). Ini mengindikasikan jam sibuk pagi dan sore yang membutuhkan distribusi sepeda tambahan."
   ]
  },
  {
   "cell_type": "markdown",
   "source": [
    "## Analisis Lanjutan (Opsional)"
   ],
   "metadata": {
    "id": "9y4VUsmcYNZ5"
   }
  },
  {
   "metadata": {},
   "cell_type": "markdown",
   "source": [
    "### Clustering Berdasarkan Musim dan Cuaca\n",
    "\n",
    "Tujuan Analisis:\n",
    "Teknik clustering ini bertujuan untuk mengelompokkan data penggunaan sepeda berdasarkan kombinasi musim dan cuaca. Dengan mengelompokkan data per jam berdasarkan musim (`season_day`) dan cuaca (`weathersit_day`).\n",
    "\n",
    "Dengan melakukan clustering kita dapat:\n",
    "- Mengidentifikasi pola penggunaan sepeda pada kondisi musim dan cuaca tertentu.\n",
    "- Menemukan kondisi optimal (musim dan cuaca) yang menghasilkan penggunaan sepeda tertinggi.\n",
    "- Membantu dalam alokasi sepeda dengan memprioritaskan kondisi musim dan cuaca yang paling banyak digunakan.\n",
    "\n",
    "Metode Clustering:\n",
    "- Membuat kolom baru (`cluster`) yang menggabungkan informasi musim (`season_day`) dan cuaca (`weathersit_day`) dalam format `S{season}-W{weather}`.\n",
    "- Contoh: S1-W1 berarti musim semi (`season_day = 1`) dengan cuaca cerah (`weathersit_day = 1`).\n",
    "- Mengelompokkan data berdasarkan cluster dan menghitung rata-rata penggunaan sepeda (cnt) untuk setiap kelompok."
   ]
  },
  {
   "cell_type": "code",
   "source": [
    "combined_df['cluster'] = combined_df.apply(\n",
    "    lambda row: f\"S{row['season_day']}-W{row['weathersit_day']}\", axis=1\n",
    ")\n",
    "cluster_usage = combined_df.groupby('cluster')['cnt'].mean().reset_index()\n",
    "plt.figure(figsize=(12, 6))\n",
    "\n",
    "ax = sns.barplot(x='cluster', y='cnt', data=cluster_usage, palette='Set2')\n",
    "for p in ax.patches:\n",
    "    ax.annotate(f'{p.get_height():.0f}',\n",
    "                (p.get_x() + p.get_width() / 2., p.get_height()),\n",
    "                ha='center', va='center',\n",
    "                xytext=(0, 10),\n",
    "                textcoords='offset points',\n",
    "                fontsize=10)\n",
    "plt.title('Rata-rata Penggunaan per Cluster (2011-2012)', fontsize=14)\n",
    "plt.xlabel('Cluster (Musim-Cuaca)', fontsize=12)\n",
    "plt.ylabel('Rata-rata Penggunaan (cnt)', fontsize=12)\n",
    "plt.xticks(rotation=45)\n",
    "plt.show()"
   ],
   "metadata": {
    "id": "iWhnzsJGYUCO",
    "ExecuteTime": {
     "end_time": "2025-02-28T13:59:40.108169Z",
     "start_time": "2025-02-28T13:59:39.388924Z"
    }
   },
   "outputs": [
    {
     "data": {
      "text/plain": [
       "<Figure size 1200x600 with 1 Axes>"
      ],
      "image/png": "[encoded data removed]"
     },
     "metadata": {},
     "output_type": "display_data"
    }
   ],
   "execution_count": 60
  },
  {
   "metadata": {},
   "cell_type": "markdown",
   "source": [
    "**Insight:**\n",
    "Cluster S3-W1 (Fall-Cerah) memiliki rata-rata penggunaan tertinggi, diikuti S2-W1 (Summer-Cerah). Ini menunjukkan cuaca cerah di musim Fall dan Summer adalah kondisi optimal untuk alokasi sepeda lebih banyak."
   ]
  },
  {
   "cell_type": "markdown",
   "metadata": {
    "id": "_WeHlCeX8DC2"
   },
   "source": [
    "## Conclusion"
   ]
  },
  {
   "cell_type": "markdown",
   "metadata": {
    "id": "ZTcyR48Y8DC2"
   },
   "source": [
    "- Conclution pertanyaan 1:\n",
    "    Tren di 2012 menunjukkan penggunaan harian lebih tinggi pada hari kerja (puncak Kamis), mendukung strategi penjadwalan dengan tambahan sepeda pada pertengahan minggu.\n",
    "\n",
    "- Conclution pertanyaan 2:\n",
    "    Musim Fall (2011-2012) memiliki penggunaan tertinggi (1.06 juta), mengindikasikan kebutuhan stok sepeda lebih besar pada musim ini di tahun berikutnya.\n",
    "\n",
    "- Conclution pertanyaan 3:\n",
    "    Pola Fall 2012 mengungkap jam sibuk pada hari kerja (8 pagi, 17-18 sore), menyarankan distribusi sepeda tambahan pada jam tersebut untuk efisiensi layanan.\n"
   ]
  },
  {
   "metadata": {
    "ExecuteTime": {
     "end_time": "2025-02-28T13:59:40.454013Z",
     "start_time": "2025-02-28T13:59:40.190452Z"
    }
   },
   "cell_type": "code",
   "source": "combined_df.to_csv(\"main_data.csv\", index=False)",
   "outputs": [],
   "execution_count": 61
  }
 ],
 "metadata": {
  "kernelspec": {
   "display_name": "Python 3",
   "language": "python",
   "name": "python3"
  },
  "language_info": {
   "name": "python",
   "version": "3.8.0 (tags/v3.8.0:fa919fd, Oct 14 2019, 19:21:23) [MSC v.1916 32 bit (Intel)]"
  },
  "orig_nbformat": 4,
  "vscode": {
   "interpreter": {
    "hash": "972b3bf27e332e87b5379f2791f6ef9dfc79c71018c370b0d7423235e20fe4d7"
   }
  },
  "colab": {
   "provenance": []
  }
 },
 "nbformat": 4,
 "nbformat_minor": 0
}
